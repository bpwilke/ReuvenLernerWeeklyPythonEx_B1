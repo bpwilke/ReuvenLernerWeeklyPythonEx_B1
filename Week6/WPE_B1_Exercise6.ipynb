{
 "cells": [
  {
   "cell_type": "markdown",
   "metadata": {},
   "source": [
    "# Weekly Programming Exercise B1 - EX 6"
   ]
  },
  {
   "cell_type": "markdown",
   "metadata": {},
   "source": [
    "This week, we're going to try to create some reports with Python's built-in data structures. For the purposes of this exercise, I'm going to assume that we have a list of dictionaries, in which each dict represents a person. That dict will then have three key-value pairs:\n",
    "name\n",
    "age\n",
    "hobbies\n",
    "\n",
    "The final value, \"hobbies\", will be a list of strings describing the person's hobbies.\n",
    "\n",
    "For example, here is a list of myself and my children:\n",
    "    all_people = [{'name':'Reuven', 'age':48, 'hobbies':['Python', 'cooking', 'reading']},\n",
    "                  {'name':'Atara', 'age':17, 'hobbies':['horses', 'cooking', 'art', 'reading']},\n",
    "                  {'name':'Shikma', 'age':15, 'hobbies':['Python', 'piano', 'cooking', 'reading']},\n",
    "                  {'name':'Amotz', 'age':13, 'hobbies':['biking', 'cooking']}]\n",
    "\n",
    "\n",
    "You'll first want to create a list that looks like this. Note that we have a complex data structure here -- a list of dicts, in which one of the dict's values is a list.\n",
    "\n",
    "Given this data (or data like it), I'd like you to produce functions that produce a number of reports:\n",
    "Return the average age of all people, or (optionally) all people under a given age.\n",
    "Return a set of the different hobbies enjoyed by people in our database.\n",
    "Return a Counter object indicating how many people have each hobby -- that is, how many people are interested in Python, how many enjoy cooking, and so forth.  (I know, in an ideal world, everyone would love Python.  But hey, they're my children, so I'll forgive them.  For now.)\n",
    "Return the n most common hobbies, as a list of strings.\n",
    "\n",
    "Hint: Nested list comprehensions and the Counter class will make this much easier!\n",
    "\n",
    "I'll be back on Monday with a solution.  Meanwhile, discuss it in the forum!\n",
    "\n",
    "Reuven\n",
    " "
   ]
  },
  {
   "cell_type": "code",
   "execution_count": 2,
   "metadata": {},
   "outputs": [],
   "source": [
    "all_people = [{'name':'Reuven', 'age':48, 'hobbies':['Python', 'cooking', 'reading']},\n",
    "                  {'name':'Atara', 'age':17, 'hobbies':['horses', 'cooking', 'art', 'reading']},\n",
    "                  {'name':'Shikma', 'age':15, 'hobbies':['Python', 'piano', 'cooking', 'reading']},\n",
    "                  {'name':'Amotz', 'age':13, 'hobbies':['biking', 'cooking']}]"
   ]
  },
  {
   "cell_type": "code",
   "execution_count": 56,
   "metadata": {},
   "outputs": [],
   "source": [
    "def average_age_under(data, under = None):\n",
    "    if under:\n",
    "        ages = [people['age'] for people in data if people['age'] < under]\n",
    "    else:\n",
    "        ages = [people['age'] for people in data]\n",
    "    if not ages:\n",
    "        return 0\n",
    "    else:\n",
    "        return (sum(ages) / len(ages))"
   ]
  },
  {
   "cell_type": "code",
   "execution_count": 57,
   "metadata": {},
   "outputs": [
    {
     "data": {
      "text/plain": [
       "23.25"
      ]
     },
     "execution_count": 57,
     "metadata": {},
     "output_type": "execute_result"
    }
   ],
   "source": [
    "average_age_under(all_people)"
   ]
  },
  {
   "cell_type": "code",
   "execution_count": 58,
   "metadata": {},
   "outputs": [
    {
     "data": {
      "text/plain": [
       "14.0"
      ]
     },
     "execution_count": 58,
     "metadata": {},
     "output_type": "execute_result"
    }
   ],
   "source": [
    "average_age_under(all_people, 17)"
   ]
  },
  {
   "cell_type": "code",
   "execution_count": 53,
   "metadata": {},
   "outputs": [],
   "source": [
    "def all_hobbies(data):\n",
    "    hobbies_all = list()\n",
    "    for hobbies in [people['hobbies'] for people in data]:\n",
    "        for hobby in hobbies:\n",
    "            hobbies_all.append(hobby)\n",
    "    return set(hobbies_all)"
   ]
  },
  {
   "cell_type": "code",
   "execution_count": 59,
   "metadata": {},
   "outputs": [
    {
     "data": {
      "text/plain": [
       "{'Python', 'art', 'biking', 'cooking', 'horses', 'piano', 'reading'}"
      ]
     },
     "execution_count": 59,
     "metadata": {},
     "output_type": "execute_result"
    }
   ],
   "source": [
    "all_hobbies(all_people)"
   ]
  },
  {
   "cell_type": "code",
   "execution_count": 77,
   "metadata": {},
   "outputs": [],
   "source": [
    "from collections import Counter\n",
    "\n",
    "def hobby_counter(data):\n",
    "    hobbies_all = list()\n",
    "    for hobbies in [people['hobbies'] for people in data]:\n",
    "        for hobby in hobbies:\n",
    "            hobbies_all.append(hobby)\n",
    "    hobbies_counts = Counter(hobbies_all)\n",
    "    return hobbies_counts"
   ]
  },
  {
   "cell_type": "code",
   "execution_count": 78,
   "metadata": {},
   "outputs": [
    {
     "data": {
      "text/plain": [
       "Counter({'Python': 2,\n",
       "         'cooking': 4,\n",
       "         'reading': 3,\n",
       "         'horses': 1,\n",
       "         'art': 1,\n",
       "         'piano': 1,\n",
       "         'biking': 1})"
      ]
     },
     "execution_count": 78,
     "metadata": {},
     "output_type": "execute_result"
    }
   ],
   "source": [
    "hobby_counter(all_people)"
   ]
  },
  {
   "cell_type": "code",
   "execution_count": 74,
   "metadata": {},
   "outputs": [],
   "source": [
    "def n_most_common(data, most_common = None):\n",
    "    hobbies_all = list()\n",
    "    for hobbies in [people['hobbies'] for people in data]:\n",
    "        for hobby in hobbies:\n",
    "            hobbies_all.append(hobby)\n",
    "    hobbies_counts = Counter(hobbies_all)\n",
    "    return [each[0] for each in hobbies_counts.most_common(most_common)]"
   ]
  },
  {
   "cell_type": "code",
   "execution_count": 79,
   "metadata": {},
   "outputs": [
    {
     "data": {
      "text/plain": [
       "['cooking', 'reading', 'Python', 'horses', 'art', 'piano', 'biking']"
      ]
     },
     "execution_count": 79,
     "metadata": {},
     "output_type": "execute_result"
    }
   ],
   "source": [
    "n_most_common(all_people)"
   ]
  },
  {
   "cell_type": "code",
   "execution_count": 80,
   "metadata": {},
   "outputs": [
    {
     "data": {
      "text/plain": [
       "['cooking', 'reading', 'Python', 'horses']"
      ]
     },
     "execution_count": 80,
     "metadata": {},
     "output_type": "execute_result"
    }
   ],
   "source": [
    "n_most_common(all_people, 4)"
   ]
  },
  {
   "cell_type": "code",
   "execution_count": 75,
   "metadata": {},
   "outputs": [
    {
     "data": {
      "text/plain": [
       "['cooking', 'reading']"
      ]
     },
     "execution_count": 75,
     "metadata": {},
     "output_type": "execute_result"
    }
   ],
   "source": [
    "n_most_common(all_people, 2)"
   ]
  }
 ],
 "metadata": {
  "kernelspec": {
   "display_name": "Python 3",
   "language": "python",
   "name": "python3"
  },
  "language_info": {
   "codemirror_mode": {
    "name": "ipython",
    "version": 3
   },
   "file_extension": ".py",
   "mimetype": "text/x-python",
   "name": "python",
   "nbconvert_exporter": "python",
   "pygments_lexer": "ipython3",
   "version": "3.6.5"
  }
 },
 "nbformat": 4,
 "nbformat_minor": 2
}
