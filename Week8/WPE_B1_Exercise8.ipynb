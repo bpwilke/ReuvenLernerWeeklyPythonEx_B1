{
 "cells": [
  {
   "cell_type": "markdown",
   "metadata": {},
   "source": [
    "# Weekly Programming Exercise B1 - EX 8"
   ]
  },
  {
   "cell_type": "markdown",
   "metadata": {},
   "source": [
    "This week, we'll be writing another generator function. (Oh, goody!) Normally, an iterator returns the elements of its inputs one at a time. This week, I want to take several inputs (similar to itertools.chain) but return their elements interleaved (like \"zip\").\n",
    "\n",
    "In fact, I call it: multiziperator!\n",
    "\n",
    "(Don't like the name? Fine, it's only for one week.)\n",
    "    \n",
    "    letters = 'abcde'\n",
    "    \n",
    "    numbers = [1,2,3,4,5]\n",
    "    \n",
    "    symbols = '!@#$%'\n",
    "\n",
    "    for one_item in multiziperator(letters, numbers, symbols):\n",
    "        print(one_item)\n",
    "\n",
    "The result would be:\n",
    "    \n",
    "    a\n",
    "    \n",
    "    1\n",
    "    \n",
    "    !\n",
    "    \n",
    "    b\n",
    "    \n",
    "    2\n",
    "    \n",
    "    @\n",
    "    \n",
    "    c\n",
    "    \n",
    "    3\n",
    "    \n",
    "    #\n",
    "    \n",
    "    d\n",
    "    \n",
    "    4\n",
    "    \n",
    "    $\n",
    "    \n",
    "    e\n",
    "    \n",
    "    5\n",
    "    \n",
    "    %\n",
    "    \n",
    "\n",
    "In other words: We get the first element of \"letters\", then the first element of \"numbers\", then the first element of \"symbols\".  Then the second element of each.  Then the third element of each.  And so forth.\n",
    "\n",
    "You should be able to pass any number of iterables to multiziperator.  And if they aren't the same length, then the shortest one determines when things stop.\n",
    "\n",
    "Questions or comments?  Use the forum!  I'll be back on Monday with a solution.\n",
    "\n",
    "Reuven"
   ]
  },
  {
   "cell_type": "code",
   "execution_count": 25,
   "metadata": {},
   "outputs": [],
   "source": [
    "def multiziperator(*args):\n",
    "    min_len = min([len(each) for each in args])   #<-- figure out the smallest length'd sequence\n",
    "    idx = 0\n",
    "    while idx < min_len:\n",
    "        for iterable in args:\n",
    "            yield str(iterable[idx])\n",
    "        idx += 1"
   ]
  },
  {
   "cell_type": "code",
   "execution_count": 21,
   "metadata": {},
   "outputs": [],
   "source": [
    "letters = 'abcdefghi'\n",
    "numbers = [1,2,3,4,5]\n",
    "symbols = '!@#$%'"
   ]
  },
  {
   "cell_type": "code",
   "execution_count": 27,
   "metadata": {},
   "outputs": [
    {
     "name": "stdout",
     "output_type": "stream",
     "text": [
      "a\n",
      "1\n",
      "!\n",
      "b\n",
      "2\n",
      "@\n",
      "c\n",
      "3\n",
      "#\n",
      "d\n",
      "4\n",
      "$\n",
      "e\n",
      "5\n",
      "%\n"
     ]
    }
   ],
   "source": [
    "for one_item in multiziperator(letters, numbers, symbols):\n",
    "    print(one_item)"
   ]
  },
  {
   "cell_type": "code",
   "execution_count": 28,
   "metadata": {},
   "outputs": [],
   "source": [
    "letters2 = 'abcdefghi'\n",
    "numbers2 = [1,2,3,4,5,6,7,8]\n",
    "symbols5 = '!@#$%);,'\n",
    "emojis = '😀😘🤪🤑😓💩'"
   ]
  },
  {
   "cell_type": "code",
   "execution_count": 29,
   "metadata": {},
   "outputs": [
    {
     "name": "stdout",
     "output_type": "stream",
     "text": [
      "a\n",
      "1\n",
      "!\n",
      "😀\n",
      "b\n",
      "2\n",
      "@\n",
      "😘\n",
      "c\n",
      "3\n",
      "#\n",
      "🤪\n",
      "d\n",
      "4\n",
      "$\n",
      "🤑\n",
      "e\n",
      "5\n",
      "%\n",
      "😓\n",
      "f\n",
      "6\n",
      ")\n",
      "💩\n"
     ]
    }
   ],
   "source": [
    "for one_item in multiziperator(letters2, numbers2, symbols5, emojis):\n",
    "    print(one_item)"
   ]
  }
 ],
 "metadata": {
  "kernelspec": {
   "display_name": "Python 3",
   "language": "python",
   "name": "python3"
  },
  "language_info": {
   "codemirror_mode": {
    "name": "ipython",
    "version": 3
   },
   "file_extension": ".py",
   "mimetype": "text/x-python",
   "name": "python",
   "nbconvert_exporter": "python",
   "pygments_lexer": "ipython3",
   "version": "3.6.5"
  }
 },
 "nbformat": 4,
 "nbformat_minor": 2
}
