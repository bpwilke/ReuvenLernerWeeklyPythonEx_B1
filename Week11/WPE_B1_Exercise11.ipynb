{
 "cells": [
  {
   "cell_type": "markdown",
   "metadata": {},
   "source": [
    "# Weekly Programming Exercise B1 - EX 11"
   ]
  },
  {
   "cell_type": "markdown",
   "metadata": {},
   "source": [
    "This week, we'll look at another way in which we can use Python's magic methods to create an object that takes use of built-in operators. This week, we're going to create a class that I call DirFIleHash. The idea is that you create an instance of DirFileHash by passing a directory name:\n",
    "\n",
    "    d = DirFileHash('/etc/')\n",
    "\n",
    "You can then get the MD5 hash of any file in this directory by putting it in square brackets:\n",
    "\n",
    "    print(d['passwd'])\n",
    "\n",
    "This will return the 32-character hexadecimal MD5 hash value for the contents of /etc/passwd.\n",
    "\n",
    "You'll almost certainly want to use Python's \"hashlib\" in order to solve this exercise, which is documented here:\n",
    "\n",
    "    https://docs.python.org/3/library/hashlib.html\n",
    "\n",
    "If you pass a value that doesn't exist, or isn't a file, or isn't a legitimate thing that you can open and read the contents from, then the method should return None.\n",
    "\n",
    "Questions or comments?  Post them to the forum!\n",
    "\n",
    "I'll provide answers and tips on Monday.\n",
    "\n",
    "Until then,\n",
    "\n",
    "Reuven"
   ]
  },
  {
   "cell_type": "code",
   "execution_count": null,
   "metadata": {},
   "outputs": [],
   "source": []
  },
  {
   "cell_type": "code",
   "execution_count": null,
   "metadata": {},
   "outputs": [],
   "source": []
  },
  {
   "cell_type": "code",
   "execution_count": null,
   "metadata": {},
   "outputs": [],
   "source": []
  },
  {
   "cell_type": "code",
   "execution_count": null,
   "metadata": {},
   "outputs": [],
   "source": []
  },
  {
   "cell_type": "code",
   "execution_count": null,
   "metadata": {},
   "outputs": [],
   "source": []
  },
  {
   "cell_type": "code",
   "execution_count": null,
   "metadata": {},
   "outputs": [],
   "source": []
  }
 ],
 "metadata": {
  "kernelspec": {
   "display_name": "Python 3",
   "language": "python",
   "name": "python3"
  },
  "language_info": {
   "codemirror_mode": {
    "name": "ipython",
    "version": 3
   },
   "file_extension": ".py",
   "mimetype": "text/x-python",
   "name": "python",
   "nbconvert_exporter": "python",
   "pygments_lexer": "ipython3",
   "version": "3.6.5"
  }
 },
 "nbformat": 4,
 "nbformat_minor": 2
}
