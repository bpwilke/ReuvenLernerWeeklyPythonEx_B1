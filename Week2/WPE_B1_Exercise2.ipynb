{
 "cells": [
  {
   "cell_type": "markdown",
   "metadata": {},
   "source": [
    "# Weekly Programming Exercise B1 - EX 2"
   ]
  },
  {
   "cell_type": "markdown",
   "metadata": {},
   "source": [
    "You're probably familiar with the \"range\" function in Python.\n",
    "\n",
    "In Python 2, it returns a list:\n",
    "\n",
    "range(5)\n",
    "    [0, 1, 2, 3, 4]\n",
    "\n",
    "    >>> range(5,10)\n",
    "    [5, 6, 7, 8, 9]\n",
    "\n",
    "    >>> range(5,20,3)\n",
    "    [5, 8, 11, 14, 17]\n",
    "\n",
    "In Python 3, \"range\" returns an iterator object -- the same sort of object as \"xrange\" returned in Python 2:\n",
    "    >>> range(5)\n",
    "    range(0, 5)\n",
    "\n",
    "    >>> range(5,10)\n",
    "    range(5, 10)\n",
    "\n",
    "    >>> range(5,20,3)\n",
    "    range(5, 20, 3)\n",
    "\n",
    "This week, I want you to implement \"myrange\", our own home-grown version of the built-in \"range\" function.\n",
    "\n",
    "Should you implement it Python 2 style, such that it returns a list, or Python 3 style, such that it returns an iterator?\n",
    "\n",
    "The answer is: Yes!  I'd like you to implement both, so that you can see the difference between returning a list (potentially long) and returning an iterator.\n",
    "\n",
    "That is, I'd like you to implement:\n",
    "A function (\"myrange2\") that takes one, two, or three parameters and returns a list that looks like my above examples for Python 2's \"range\" function.\n",
    "\n",
    "A generator function (\"myrange3\") that takes one, two, or three parameters and returns an iterator (well, a generator) that looks like my above examples for Python 3's \"range\" function.  Note that the printed representation doesn't have to look the same.\n",
    "\n",
    "In both cases, it should be possible to take the output of calling our function and stick it into a \"for\" loop:\n",
    "    for x in myrange2(10, 30, 3):\n",
    "        print(x)\n",
    "\n",
    "The above should print\n",
    "    10 13 16 19 22 25 28\n",
    "\n",
    "We should get the same result from invoking:\n",
    "    for x in myrange3(10, 30, 3):\n",
    "        print(x)\n",
    "\n",
    "\n",
    "I'll be back on Monday with a solution.\n",
    "\n",
    "Reuven\n"
   ]
  },
  {
   "cell_type": "code",
   "execution_count": 28,
   "metadata": {},
   "outputs": [],
   "source": [
    "def myrange2(start, end=None, step=None):\n",
    "    outList = list()\n",
    "    if start and end and step:\n",
    "        while start < end:\n",
    "            outList.append(start)\n",
    "            start += step\n",
    "    elif start and end:\n",
    "        while start < end:\n",
    "            outList.append(start)\n",
    "            start += 1\n",
    "    elif start:\n",
    "        startOnly = 0\n",
    "        while startOnly < start:\n",
    "            outList.append(startOnly)\n",
    "            startOnly += 1\n",
    "    return outList"
   ]
  },
  {
   "cell_type": "code",
   "execution_count": 36,
   "metadata": {},
   "outputs": [],
   "source": [
    "def myrange3(start, end=None, step=None):\n",
    "    if start and end and step:\n",
    "        while start < end:\n",
    "            yield start\n",
    "            start += step\n",
    "    elif start and end:\n",
    "        while start < end:\n",
    "            yield start\n",
    "            start += 1\n",
    "    elif start:\n",
    "        startOnly = 0\n",
    "        while startOnly < start:\n",
    "            yield startOnly\n",
    "            startOnly += 1"
   ]
  },
  {
   "cell_type": "code",
   "execution_count": 37,
   "metadata": {},
   "outputs": [
    {
     "data": {
      "text/plain": [
       "[0, 1, 2, 3, 4, 5, 6, 7, 8, 9]"
      ]
     },
     "execution_count": 37,
     "metadata": {},
     "output_type": "execute_result"
    }
   ],
   "source": [
    "[x for x in myrange3(10)]"
   ]
  },
  {
   "cell_type": "code",
   "execution_count": 38,
   "metadata": {},
   "outputs": [
    {
     "name": "stdout",
     "output_type": "stream",
     "text": [
      "10\n",
      "13\n",
      "16\n",
      "19\n",
      "22\n",
      "25\n",
      "28\n"
     ]
    }
   ],
   "source": [
    "for x in myrange2(10, 30, 3): print(x)"
   ]
  },
  {
   "cell_type": "code",
   "execution_count": 40,
   "metadata": {},
   "outputs": [
    {
     "data": {
      "text/plain": [
       "[10, 13, 16, 19, 22, 25, 28]"
      ]
     },
     "execution_count": 40,
     "metadata": {},
     "output_type": "execute_result"
    }
   ],
   "source": [
    "myrange2(10, 30, 3)"
   ]
  },
  {
   "cell_type": "code",
   "execution_count": 39,
   "metadata": {},
   "outputs": [
    {
     "name": "stdout",
     "output_type": "stream",
     "text": [
      "10\n",
      "13\n",
      "16\n",
      "19\n",
      "22\n",
      "25\n",
      "28\n"
     ]
    }
   ],
   "source": [
    "for x in myrange3(10, 30, 3): print(x)"
   ]
  },
  {
   "cell_type": "code",
   "execution_count": 41,
   "metadata": {},
   "outputs": [
    {
     "data": {
      "text/plain": [
       "<generator object myrange3 at 0x110707200>"
      ]
     },
     "execution_count": 41,
     "metadata": {},
     "output_type": "execute_result"
    }
   ],
   "source": [
    "myrange3(10, 30, 3)"
   ]
  }
 ],
 "metadata": {
  "kernelspec": {
   "display_name": "Python 3",
   "language": "python",
   "name": "python3"
  },
  "language_info": {
   "codemirror_mode": {
    "name": "ipython",
    "version": 3
   },
   "file_extension": ".py",
   "mimetype": "text/x-python",
   "name": "python",
   "nbconvert_exporter": "python",
   "pygments_lexer": "ipython3",
   "version": "3.6.5"
  }
 },
 "nbformat": 4,
 "nbformat_minor": 2
}
