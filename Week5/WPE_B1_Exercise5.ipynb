{
 "cells": [
  {
   "cell_type": "markdown",
   "metadata": {},
   "source": [
    "# Weekly Programming Exercise B1 - EX 5"
   ]
  },
  {
   "cell_type": "markdown",
   "metadata": {},
   "source": [
    "Back when the Web was young, the assumption was that people would browse through Web sites.  HTTP was seen as a way to transfer information from servers to browsers, which (obviously) existed in order for people to read things.\n",
    "\n",
    "Today, Web servers largely provide information not to humans, but rather to other programs. They provide this data in a variety of formats.  One of these formats is JSON (\"JavaScript Object Notation\").  Note that JSON is a format for text files.  It doesn't describe a data structure.  In order to actually use JSON data, you need to translate it from the JSON string into data structures in the language you're using -- such as Python.  Similarly, you can take data structures and turn them into JSON strings, in order for them to be manipulated in your language.\n",
    "\n",
    "JSON is cross-platform; it's a rare language nowadays that cannot translate its data structures to JSON, and vice versa.  In Python, the \"json\" module provides us with this functionality.  \n",
    "\n",
    "How can you get JSON from a remote site onto yours?  There are packages that come with Python, but I'd generally recommend using \"requests\", a fantastic library on PyPI.\n",
    "\n",
    "Once you've retrieved data in JSON format, what can you do with it?  Just about anything you want; you can analyze it, rewrite it, or even output it into a different format.  For example, you can create a CSV file from a subset of the data that you downloaded.  The \"csv\" module in Python's standard library handles this very well.\n",
    "\n",
    "For this week's exercise, you are to download information in JSON format about the 1,000 largest cities. I've put it on GitHub as:\n",
    "\n",
    "https://gist.github.com/reuven/77edbb0292901f35019f17edb9794358\n",
    "\n",
    "but you should download the \"raw\" version, which is here:\n",
    "\n",
    "   https://gist.githubusercontent.com/reuven/77edbb0292901f35019f17edb9794358/raw/2bf258763cdddd704f8ffd3ea9a3e81d25e2c6f6/cities.json\n",
    "\n",
    "(Please don't even try to write down this URL.)\n",
    "\n",
    "After you retrieve the data and decode the JSON into Python data structures, I want you to create a CSV file. That file, which should have tabs as delimiters (rather than commas), should include the following data from the \n",
    "\n",
    "JSON file:\n",
    "\n",
    "City name\n",
    "\n",
    "State name\n",
    "\n",
    "City population\n",
    "\n",
    "City size rank\n",
    "\n",
    "More specifically: You should write a function that takes a URL and a filename. It'll download the JSON information from the URL, and then write it to the file specified.\n",
    "\n",
    "Questions or comments?  Discuss them in the forum!\n",
    "\n",
    "I'll be back on Monday with a solution.\n",
    "\n",
    "Reuven"
   ]
  },
  {
   "cell_type": "code",
   "execution_count": 1,
   "metadata": {},
   "outputs": [],
   "source": [
    "import requests\n",
    "import csv\n",
    "import json"
   ]
  },
  {
   "cell_type": "code",
   "execution_count": 20,
   "metadata": {},
   "outputs": [],
   "source": [
    "def cities_to_csv(url, filename):\n",
    "    try:\n",
    "        body = json.loads(requests.get(url).text)\n",
    "\n",
    "        with open(filename, mode='w') as city_file:\n",
    "            fieldnames = ['city', 'state', 'rank', 'population']\n",
    "            writer = csv.DictWriter(city_file, fieldnames=fieldnames, delimiter='\\t')\n",
    "            #writer.writeheader()\n",
    "            for each in body:\n",
    "                writer.writerow({'city': each['city'], 'state': each['state'], 'rank': each['rank'], 'population': each['population']})\n",
    "    except:\n",
    "        print('Invalid URL')"
   ]
  },
  {
   "cell_type": "code",
   "execution_count": 21,
   "metadata": {},
   "outputs": [],
   "source": [
    "cities_to_csv('https://gist.githubusercontent.com/reuven/77edbb0292901f35019f17edb9794358/raw/2bf258763cdddd704f8ffd3ea9a3e81d25e2c6f6/cities.json', 'cities.csv')"
   ]
  }
 ],
 "metadata": {
  "kernelspec": {
   "display_name": "Python 3",
   "language": "python",
   "name": "python3"
  },
  "language_info": {
   "codemirror_mode": {
    "name": "ipython",
    "version": 3
   },
   "file_extension": ".py",
   "mimetype": "text/x-python",
   "name": "python",
   "nbconvert_exporter": "python",
   "pygments_lexer": "ipython3",
   "version": "3.6.5"
  }
 },
 "nbformat": 4,
 "nbformat_minor": 2
}
