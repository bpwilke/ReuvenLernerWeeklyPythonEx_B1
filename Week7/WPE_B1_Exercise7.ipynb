{
 "cells": [
  {
   "cell_type": "markdown",
   "metadata": {},
   "source": [
    "# Weekly Programming Exercise B1 - EX 7"
   ]
  },
  {
   "cell_type": "markdown",
   "metadata": {},
   "source": [
    "This week, we'll write a function that takes a function as an argument.  Actually, the function takes two arguments:\n",
    "\n",
    "A directory name (string)\n",
    "\n",
    "a function\n",
    "\n",
    "The function will be applied to each file in the directory.\n",
    "\n",
    "The output from the function's execution on each file will be returned as part of a dictionary, in which the filenames are the keys and the results are the values.\n",
    "\n",
    "For example, if we call\n",
    "\n",
    "    import os\n",
    "\n",
    "    def file_length(filename):\n",
    "    return os.stat(filename).st_size\n",
    "\n",
    "    success_dict, failure_dict = filefunc('/etc/', file_length)\n",
    "\n",
    "The result will be two dictionaries:\n",
    "- The first dictionary's keys are the filenames and the output from running the function, when no exception was raised, and\n",
    "- The second dictionary's keys are the filenames and the exception object when one was raised.\n",
    "\n",
    "So in the above call, if no exceptions were raised, then the first dictionary returned would consist of the fienames in /etc/, with the length of each file as a value.  The second dictionary would be empty.\n",
    "\n",
    "I'm afraid that there isn't any test this week; I'm very much open to ideas on how to use pytest to check files in a directory.  Let me know what you think!\n",
    "\n",
    "And in any event, you can discuss this assignment in the forums.\n",
    "\n",
    "I'll be back on Monday with a solution.\n",
    "\n",
    "Reuven\n",
    " "
   ]
  },
  {
   "cell_type": "code",
   "execution_count": 6,
   "metadata": {},
   "outputs": [],
   "source": [
    "import os\n",
    "from os import listdir\n",
    "from os.path import isfile, join"
   ]
  },
  {
   "cell_type": "code",
   "execution_count": 4,
   "metadata": {},
   "outputs": [],
   "source": [
    "def file_length(filename):\n",
    "    return os.stat(filename).st_size"
   ]
  },
  {
   "cell_type": "code",
   "execution_count": 21,
   "metadata": {},
   "outputs": [],
   "source": [
    "def filefunc(path, func):\n",
    "    success = dict()               #<-- initialize successes\n",
    "    fail = dict()                  #<-- initialize failures\n",
    "    onlyfiles = [file for file in listdir(path) if isfile(join(path, file))] # get list of files\n",
    "    for file in onlyfiles:         #<-- for each of our files\n",
    "        try:                       #<-- try and apply our function\n",
    "            success[file] = file_length(join(path, file)) # if successful add to success dict\n",
    "        except Exception as e:\n",
    "            fail[file] = e         # if fails, add exception obj to fail dict\n",
    "    return success, fail           # return both dicts"
   ]
  },
  {
   "cell_type": "code",
   "execution_count": 25,
   "metadata": {},
   "outputs": [],
   "source": [
    "my_success, my_failure = filefunc('/Users/bwilke/Desktop/', file_length)"
   ]
  },
  {
   "cell_type": "code",
   "execution_count": 26,
   "metadata": {},
   "outputs": [
    {
     "data": {
      "text/plain": [
       "{'.Rhistory': 19367,\n",
       " '~$TypesC.docx': 162,\n",
       " '.DS_Store': 8196,\n",
       " '.localized': 0,\n",
       " 'img.webp': 229142,\n",
       " 'giphy.gif': 665608,\n",
       " '16 Restaurants to Splurge On an Upscale Dinner in Austin.webloc': 315,\n",
       " '(181) Logarithms - What is e? - YouTube.webloc': 266,\n",
       " '(181) StatQuest- Logistic Regression - YouTube.webloc': 310,\n",
       " 'IdentityBensNotes.txt': 6048,\n",
       " 'FY20 GoalsDevPlan_Wilke Nov 2019.docx': 17656,\n",
       " 'FY20 GoalsDevPlan_Wilke_Final.docx': 18506,\n",
       " '~$DataAccessAutomationAPITesting_BPW_0819.docx': 162,\n",
       " 'Machine Learning and Data Science free online courses to do in quararantine | Towards Data Science.webloc': 329,\n",
       " 'FY20 AM Goals and Development Plan Check In Feb 2020 - WILKE.docx': 16231,\n",
       " '(181) Logarithms Explained and Rules of Logarithms - YouTube.webloc': 266}"
      ]
     },
     "execution_count": 26,
     "metadata": {},
     "output_type": "execute_result"
    }
   ],
   "source": [
    "my_success"
   ]
  },
  {
   "cell_type": "code",
   "execution_count": 27,
   "metadata": {},
   "outputs": [
    {
     "data": {
      "text/plain": [
       "{}"
      ]
     },
     "execution_count": 27,
     "metadata": {},
     "output_type": "execute_result"
    }
   ],
   "source": [
    "my_failure"
   ]
  }
 ],
 "metadata": {
  "kernelspec": {
   "display_name": "Python 3",
   "language": "python",
   "name": "python3"
  },
  "language_info": {
   "codemirror_mode": {
    "name": "ipython",
    "version": 3
   },
   "file_extension": ".py",
   "mimetype": "text/x-python",
   "name": "python",
   "nbconvert_exporter": "python",
   "pygments_lexer": "ipython3",
   "version": "3.6.5"
  }
 },
 "nbformat": 4,
 "nbformat_minor": 2
}
