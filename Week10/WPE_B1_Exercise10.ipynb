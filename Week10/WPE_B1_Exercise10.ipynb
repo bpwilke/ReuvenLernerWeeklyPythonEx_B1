{
 "cells": [
  {
   "cell_type": "markdown",
   "metadata": {},
   "source": [
    "# Weekly Programming Exercise B1 - EX 10"
   ]
  },
  {
   "cell_type": "markdown",
   "metadata": {},
   "source": [
    "Here's an exercise based on a question that I got from a student in one of my corporate training classes:\n",
    "\n",
    "The Unix \"tee\" command lets you write data not only to standard output, but also to a file. This is useful if you want to see the result of a command on the screen, but also write that output to a file.\n",
    "\n",
    "This week, we'll make it possible to create our own tee-like system in Python. The basic idea is that you'll crate an instance of the Tee class, passing it all of the file-like objects that you want.  For example:\n",
    "    import sys\n",
    "\n",
    "    f1 = open('/tmp/tee1.txt', 'w')\n",
    "    \n",
    "    f2 = open('/tmp/tee2.txt', 'w')\n",
    "    \n",
    "    t = Tee(sys.stdout, f1, f2)\n",
    "    \n",
    "Now, when I invoke t.write or t.writelines, the method call will be applied to each of these file-like objects.  If an error occurs, then the exception will be raised as usual:\n",
    "\n",
    "    t.write('abc\\n')\n",
    "    \n",
    "    t.write('def\\n')\n",
    "    \n",
    "    t.write('ghi\\n')\n",
    "\n",
    "Invoking the above, assuming that there are no exceptions, will print the three strings on the screen, as well as to the two other files.\n",
    "\n",
    "For additional credit, make our \"Tee\" class a context manager, meaning that we can use it within a \"with\" statemnt to guarantee that all of the file-like objects are flushed and closed.\n",
    "\n",
    "You can discuss it in the forum.\n",
    "\n",
    "I'll be back on Monday with a solution.\n",
    "\n",
    "Reuven"
   ]
  },
  {
   "cell_type": "code",
   "execution_count": null,
   "metadata": {},
   "outputs": [],
   "source": []
  },
  {
   "cell_type": "code",
   "execution_count": null,
   "metadata": {},
   "outputs": [],
   "source": []
  },
  {
   "cell_type": "code",
   "execution_count": null,
   "metadata": {},
   "outputs": [],
   "source": []
  },
  {
   "cell_type": "code",
   "execution_count": null,
   "metadata": {},
   "outputs": [],
   "source": []
  },
  {
   "cell_type": "code",
   "execution_count": null,
   "metadata": {},
   "outputs": [],
   "source": []
  },
  {
   "cell_type": "code",
   "execution_count": null,
   "metadata": {},
   "outputs": [],
   "source": []
  }
 ],
 "metadata": {
  "kernelspec": {
   "display_name": "Python 3",
   "language": "python",
   "name": "python3"
  },
  "language_info": {
   "codemirror_mode": {
    "name": "ipython",
    "version": 3
   },
   "file_extension": ".py",
   "mimetype": "text/x-python",
   "name": "python",
   "nbconvert_exporter": "python",
   "pygments_lexer": "ipython3",
   "version": "3.6.5"
  }
 },
 "nbformat": 4,
 "nbformat_minor": 2
}
