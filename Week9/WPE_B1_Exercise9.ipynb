{
 "cells": [
  {
   "cell_type": "markdown",
   "metadata": {},
   "source": [
    "# Weekly Programming Exercise B1 - EX 9"
   ]
  },
  {
   "cell_type": "markdown",
   "metadata": {},
   "source": [
    "Hooray!  It's time for a wedding!\n",
    "\n",
    "Fine, so it's only a virtual wedding. But we have a bunch of guests, and we need to organize them in some way.  We're going to do that with a GuestList class. We'll create an instance of this class, and add our guests (as named tuples) into the guest list, along with a table number. We'll then be able to ask our class for a complete guest list by table, as well as a report of which tables aren't yet full.\n",
    "\n",
    "Here's how the class should work:\n",
    "    # Person should be a named tuple, with \"first\" and \"last\" attributes\n",
    "    \n",
    "    gl = GuestList()\n",
    "\n",
    "    gl.assign(Person('Waylon', 'Dalton'), 1)\n",
    "    gl.assign(Person('Justine', 'Henderson'), 1)\n",
    "    gl.assign(Person('Abdullah', 'Lang'), 3)\n",
    "    gl.assign(Person('Marcus', 'Cruz'), 1)\n",
    "    gl.assign(Person('Thalia', 'Cobb'), 2)\n",
    "    gl.assign(Person('Mathias', 'Little'), 2)\n",
    "    gl.assign(Person('Eddie', 'Randolph'), None)\n",
    "    gl.assign(Person('Angela', 'Walker'), 2)\n",
    "    gl.assign(Person('Lia', 'Shelton'), 3)\n",
    "    gl.assign(Person('Hadassah', 'Hartman'), None)\n",
    "    gl.assign(Person('Joanna', 'Shaffer'), 3)\n",
    "    gl.assign(Person('Jonathon', 'Sheppard'), 2)\n",
    "\n",
    "In the above code, I've created a guest list.  Each Person is then created and assigned to a table.  If we assign a person to table None, they aren't assigned.\n",
    "\n",
    "We will assume, for the purposes of this exercise, that everyone in the world has a unique name.\n",
    "\n",
    "We will also assume that a maximum of 10 people can be added to a given table.  Attempting to add more than 10 people to a table results in a TableFull exception.\n",
    "\n",
    "Now we want to run a few reports on our guest list:\n",
    "\n",
    "(1) How many guests are there, total?  We should be able to run\n",
    "    len(gl)\n",
    "\n",
    "to get an integer back.\n",
    "\n",
    "(2) What guests are at a given table?  We should be able to run\n",
    "    gl.table(2)\n",
    "\n",
    "and get a list of Person objects back.\n",
    "\n",
    "(3) What guests aren't assigned to any table?  We should be able to run\n",
    "    gl.unassigned()\n",
    "\n",
    "and get a list of Person objects back.\n",
    "\n",
    "(4) Given a Person object, we should be able to assign them to a table:\n",
    "    p = Person('Joanna', 'Shaffer')\n",
    "    gl.assign(p, 3)\n",
    "\n",
    "If the person is already in the system, but is assigned to another table (or to no table at all), then they will now be assigned to a new table.\n",
    "\n",
    "If the person isn't already in the system, then they will be added and then assigned to a table.\n",
    "\n",
    "If there is no room at the table (i.e., there are already 10 guests there), then we should raise a TableFull exception.\n",
    "\n",
    "(5) We should also be able to learn how much space is avaialble at each table:\n",
    "    gl.free_space()\n",
    "\n",
    "The above should return a dictionary of table names (keys) and remaining space (values) for each table.\n",
    "\n",
    "(6) We should be able to say\n",
    "    gl.guests()\n",
    "\n",
    "and get a list of all guests, sorted first by table number, then by last name, and finally by first name.\n",
    "\n",
    "(7) Finally, we should be able to say\n",
    "    print(gl)\n",
    "\n",
    "and get the above list printed nicely.  I'm thinking something like:\n",
    "    \n",
    "    2\n",
    "        last, first\n",
    "        last, first\n",
    "    \n",
    "    3\n",
    "        last, first\n",
    "        last, first\n",
    "    \n",
    "    4\n",
    "        last, first\n",
    "        last, first\n",
    "        last, first\n",
    "    \n",
    "Who said weddings are easy?\n",
    "\n",
    "I'll be back on Monday with my suggested solutions.  Meanwhile, you can discuss it in the forum!\n",
    "\n",
    "Reuven"
   ]
  },
  {
   "cell_type": "code",
   "execution_count": 1,
   "metadata": {},
   "outputs": [],
   "source": [
    "from collections import namedtuple\n",
    "Person = namedtuple('Person', 'first last')"
   ]
  },
  {
   "cell_type": "code",
   "execution_count": 2,
   "metadata": {},
   "outputs": [],
   "source": [
    "# let's define our custom exception\n",
    "class TableFull(Exception):\n",
    "    '''Raised when attempting to add a Person to a table that alread has 10 seated'''\n",
    "    pass"
   ]
  },
  {
   "cell_type": "code",
   "execution_count": 3,
   "metadata": {},
   "outputs": [],
   "source": [
    "class GuestList():\n",
    "    max_at_table = 10               #<-- establish our maximum per table\n",
    "    \n",
    "    def __init__(self):\n",
    "        self.allguests = list()              #<-- establish our guestlist\n",
    "           \n",
    "    def assign(self, person, table):         #<-- method for adding/assigning, let's try and manage this only with list of lists\n",
    "        \n",
    "        entry = [person, table]              #<-- create entry\n",
    "        exists = False                       #<-- initialize exists as False until we lookup\n",
    "        \n",
    "        for idx, guests in enumerate(self.allguests): #<-- check if person exists, and get index of where they exist\n",
    "            if person == guests[0]:\n",
    "                exists = True\n",
    "                break\n",
    "        \n",
    "        ## If the person DOES exist and they have a table number in the new assignment\n",
    "        existing_table_count = 0             #<-- init existing_table_count to check current table occupancy\n",
    "        if exists == True and table != None:     \n",
    "            for guest in self.allguests:     #<-- check destination table occupancy\n",
    "                if guest[1] == table:\n",
    "                    existing_table_count += 1\n",
    "            if existing_table_count < self.max_at_table:    #<-- if there's room, make update\n",
    "                self.allguests.pop(idx)         #<-- remove previous entry for guest\n",
    "                self.allguests.append(entry)    #<-- add new entry to guestlist\n",
    "            else:                            #<-- otherwise, no room, throw exception\n",
    "                raise TableFull\n",
    "        \n",
    "        ## If the person DOES NOT exist and they have a table number in the new assignment\n",
    "        existing_table_count = 0             #<-- init existing_table_count to check current table occupancy\n",
    "        if exists == False and table != None: #<-- get existing table count for entry table\n",
    "            for guest in self.allguests:    #<-- check destination table occupancy\n",
    "                if guest[1] == table:\n",
    "                    existing_table_count += 1\n",
    "            if existing_table_count < self.max_at_table:       #<-- if there's room, make update\n",
    "                self.allguests.append(entry)    #<-- add to guestlist\n",
    "            else:\n",
    "                raise TableFull               #<-- otherwise, no room, throw exception\n",
    "        \n",
    "        ## If the person DOES exist and they have None in the new table assignment\n",
    "        if exists == True and table == None:\n",
    "            self.allguests.pop(idx)         #<-- remove previous entry for guest\n",
    "            self.allguests.append(entry)    #<-- add new entry to guestlist\n",
    "        \n",
    "        ## If the person DOES NOT exist and they have None in the new table assignment\n",
    "        if exists == False and table == None:\n",
    "            self.allguests.append(entry)    #<-- add to guestlist no validation as no table assignment \n",
    "    \n",
    "    def unassigned(self):                    #<-- returns list of people with None assigned as table\n",
    "        return [each[0] for each in self.allguests if each[1] is None]  \n",
    "   \n",
    "    def table(self, table):                  #<-- returns list of people assigned to table\n",
    "        return [each[0] for each in self.allguests if each[1] == table] \n",
    "    \n",
    "    def free_space(self):                    #<-- returns free space for each table\n",
    "        remaining_space = dict()\n",
    "        for guest in self.allguests:\n",
    "            if guest[1] in remaining_space.keys():\n",
    "                remaining_space[guest[1]] = remaining_space[guest[1]] - 1 #<-- table exists, so substract a seat\n",
    "            else: \n",
    "                remaining_space[guest[1]] = self.max_at_table - 1 #<-- table doesn't exist in dict(), set to self.max_at_table minus 1\n",
    "        remaining_space.pop(None, None)           #<-- let's remove the None key here, doesn't make sense\n",
    "        return remaining_space\n",
    "    \n",
    "    def __len__(self):                       #<-- implement our own len for our objects\n",
    "        return len(self.allguests)\n",
    "\n",
    "    def guests(self):\n",
    "        assignedguests = [guest for guest in self.allguests if guest[1] is not None]   #<-- let's pop the None's off...for now. we might add them back to this list\n",
    "        sortedguests = sorted(assignedguests, key = lambda x: (x[1], x[0].last, x[0].first))\n",
    "        return [guest[0] for guest in sortedguests]    # return only the Person tuple, not the table per requirements\n",
    "    \n",
    "    \n",
    "    def __str__(self):\n",
    "        \n",
    "        # borrowed this from guests(), because i need a version with both Person and table number\n",
    "        assignedguests = [guest for guest in self.allguests if guest[1] is not None]   #<-- let's pop the None's off...for now. we might add them back to this list\n",
    "        guestssorted = sorted(assignedguests, key = lambda x: (x[1], x[0].last, x[0].first))\n",
    "        \n",
    "        printout = ''\n",
    "        \n",
    "        currenttable = guestssorted[0][1]        #<-- get the first table \n",
    "        printout += str(currenttable) + '\\n'\n",
    "        \n",
    "        for guest in guestssorted:\n",
    "            if guest[1] != currenttable:\n",
    "                printout += str(guest[1]) + '\\n'\n",
    "            currenttable = guest[1]\n",
    "            printout += f'\\t{guest[0].last}, {guest[0].first}\\n'               \n",
    "        return printout"
   ]
  },
  {
   "cell_type": "code",
   "execution_count": 4,
   "metadata": {},
   "outputs": [],
   "source": [
    "gl = GuestList()\n",
    "gl.assign(Person('Waylon', 'Dalton'), 1)\n",
    "gl.assign(Person('Justine', 'Henderson'), 1)\n",
    "gl.assign(Person('Abdullah', 'Lang'), 3)\n",
    "gl.assign(Person('Marcus', 'Cruz'), 1)\n",
    "gl.assign(Person('Thalia', 'Cobb'), 2)\n",
    "gl.assign(Person('Mathias', 'Little'), 2)\n",
    "gl.assign(Person('Eddie', 'Randolph'), 4)\n",
    "gl.assign(Person('Angela', 'Walker'), 2)\n",
    "gl.assign(Person('Lia', 'Shelton'), 3)\n",
    "gl.assign(Person('Hadassah', 'Hartman'), 4)\n",
    "gl.assign(Person('Joanna', 'Shaffer'), 3)\n",
    "gl.assign(Person('Benjamin', 'Shaffer'), 3)\n",
    "gl.assign(Person('William', 'Shaffer'), 3)\n",
    "gl.assign(Person('Jonathon', 'Sheppard'), 2)\n",
    "gl.assign(Person('dfsgfg', 'wer'), 2)\n",
    "gl.assign(Person('Eddjkgie', 'dfssg'), None)\n",
    "gl.assign(Person('Anasdfdsfgela', 'bnm'), None)"
   ]
  },
  {
   "cell_type": "code",
   "execution_count": 5,
   "metadata": {},
   "outputs": [
    {
     "data": {
      "text/plain": [
       "10"
      ]
     },
     "execution_count": 5,
     "metadata": {},
     "output_type": "execute_result"
    }
   ],
   "source": [
    "gl.max_at_table"
   ]
  },
  {
   "cell_type": "code",
   "execution_count": 6,
   "metadata": {},
   "outputs": [
    {
     "name": "stdout",
     "output_type": "stream",
     "text": [
      "1\n",
      "\tCruz, Marcus\n",
      "\tDalton, Waylon\n",
      "\tHenderson, Justine\n",
      "2\n",
      "\tCobb, Thalia\n",
      "\tLittle, Mathias\n",
      "\tSheppard, Jonathon\n",
      "\tWalker, Angela\n",
      "\twer, dfsgfg\n",
      "3\n",
      "\tLang, Abdullah\n",
      "\tShaffer, Benjamin\n",
      "\tShaffer, Joanna\n",
      "\tShaffer, William\n",
      "\tShelton, Lia\n",
      "4\n",
      "\tHartman, Hadassah\n",
      "\tRandolph, Eddie\n",
      "\n"
     ]
    }
   ],
   "source": [
    "print(gl)"
   ]
  },
  {
   "cell_type": "code",
   "execution_count": 7,
   "metadata": {},
   "outputs": [],
   "source": [
    "gl.assign(Person('Waylon', 'Dalton'), 3)"
   ]
  },
  {
   "cell_type": "code",
   "execution_count": 8,
   "metadata": {},
   "outputs": [
    {
     "data": {
      "text/plain": [
       "[Person(first='Marcus', last='Cruz'),\n",
       " Person(first='Justine', last='Henderson'),\n",
       " Person(first='Thalia', last='Cobb'),\n",
       " Person(first='Mathias', last='Little'),\n",
       " Person(first='Jonathon', last='Sheppard'),\n",
       " Person(first='Angela', last='Walker'),\n",
       " Person(first='dfsgfg', last='wer'),\n",
       " Person(first='Waylon', last='Dalton'),\n",
       " Person(first='Abdullah', last='Lang'),\n",
       " Person(first='Benjamin', last='Shaffer'),\n",
       " Person(first='Joanna', last='Shaffer'),\n",
       " Person(first='William', last='Shaffer'),\n",
       " Person(first='Lia', last='Shelton'),\n",
       " Person(first='Hadassah', last='Hartman'),\n",
       " Person(first='Eddie', last='Randolph')]"
      ]
     },
     "execution_count": 8,
     "metadata": {},
     "output_type": "execute_result"
    }
   ],
   "source": [
    "gl.guests()"
   ]
  },
  {
   "cell_type": "code",
   "execution_count": 9,
   "metadata": {},
   "outputs": [
    {
     "data": {
      "text/plain": [
       "[Person(first='Eddjkgie', last='dfssg'),\n",
       " Person(first='Anasdfdsfgela', last='bnm')]"
      ]
     },
     "execution_count": 9,
     "metadata": {},
     "output_type": "execute_result"
    }
   ],
   "source": [
    "gl.unassigned()"
   ]
  },
  {
   "cell_type": "code",
   "execution_count": 10,
   "metadata": {},
   "outputs": [
    {
     "data": {
      "text/plain": [
       "[Person(first='Abdullah', last='Lang'),\n",
       " Person(first='Lia', last='Shelton'),\n",
       " Person(first='Joanna', last='Shaffer'),\n",
       " Person(first='Benjamin', last='Shaffer'),\n",
       " Person(first='William', last='Shaffer'),\n",
       " Person(first='Waylon', last='Dalton')]"
      ]
     },
     "execution_count": 10,
     "metadata": {},
     "output_type": "execute_result"
    }
   ],
   "source": [
    "gl.table(3)"
   ]
  },
  {
   "cell_type": "code",
   "execution_count": 11,
   "metadata": {},
   "outputs": [
    {
     "data": {
      "text/plain": [
       "[Person(first='Thalia', last='Cobb'),\n",
       " Person(first='Mathias', last='Little'),\n",
       " Person(first='Angela', last='Walker'),\n",
       " Person(first='Jonathon', last='Sheppard'),\n",
       " Person(first='dfsgfg', last='wer')]"
      ]
     },
     "execution_count": 11,
     "metadata": {},
     "output_type": "execute_result"
    }
   ],
   "source": [
    "gl.table(2)"
   ]
  },
  {
   "cell_type": "code",
   "execution_count": 12,
   "metadata": {},
   "outputs": [
    {
     "data": {
      "text/plain": [
       "{1: 8, 3: 4, 2: 5, 4: 8}"
      ]
     },
     "execution_count": 12,
     "metadata": {},
     "output_type": "execute_result"
    }
   ],
   "source": [
    "gl.free_space()"
   ]
  },
  {
   "cell_type": "code",
   "execution_count": 13,
   "metadata": {},
   "outputs": [],
   "source": [
    "gl.assign(Person('sdfd', 'Daltervon'), 1)\n",
    "gl.assign(Person('Waadsfylon', 'Dadflton'), 1)\n",
    "gl.assign(Person('Waygfhgflon', 'Dalteon'), 1)\n",
    "gl.assign(Person('Waygfhfglon', 'Dalsdfton'), 1)\n",
    "gl.assign(Person('Waygfhjlon', 'Daltkjhon'), 1)\n",
    "gl.assign(Person('Waysdaflon', 'Daltjhkon'), 1)\n",
    "gl.assign(Person('new', 'person2'), 1)"
   ]
  },
  {
   "cell_type": "code",
   "execution_count": 14,
   "metadata": {},
   "outputs": [
    {
     "data": {
      "text/plain": [
       "{1: 1, 3: 4, 2: 5, 4: 8}"
      ]
     },
     "execution_count": 14,
     "metadata": {},
     "output_type": "execute_result"
    }
   ],
   "source": [
    "gl.free_space()"
   ]
  },
  {
   "cell_type": "code",
   "execution_count": 15,
   "metadata": {},
   "outputs": [],
   "source": [
    "gl.assign(Person('Eddie', 'Randolph234'), 1)"
   ]
  },
  {
   "cell_type": "code",
   "execution_count": 16,
   "metadata": {},
   "outputs": [
    {
     "data": {
      "text/plain": [
       "{1: 0, 3: 4, 2: 5, 4: 8}"
      ]
     },
     "execution_count": 16,
     "metadata": {},
     "output_type": "execute_result"
    }
   ],
   "source": [
    "gl.free_space()"
   ]
  },
  {
   "cell_type": "code",
   "execution_count": 17,
   "metadata": {},
   "outputs": [
    {
     "ename": "TableFull",
     "evalue": "",
     "output_type": "error",
     "traceback": [
      "\u001b[0;31m---------------------------------------------------------------------------\u001b[0m",
      "\u001b[0;31mTableFull\u001b[0m                                 Traceback (most recent call last)",
      "\u001b[0;32m<ipython-input-17-d3c0ce8feded>\u001b[0m in \u001b[0;36m<module>\u001b[0;34m\u001b[0m\n\u001b[1;32m      1\u001b[0m \u001b[0;31m# throw error...table full\u001b[0m\u001b[0;34m\u001b[0m\u001b[0;34m\u001b[0m\u001b[0m\n\u001b[0;32m----> 2\u001b[0;31m \u001b[0mgl\u001b[0m\u001b[0;34m.\u001b[0m\u001b[0massign\u001b[0m\u001b[0;34m(\u001b[0m\u001b[0mPerson\u001b[0m\u001b[0;34m(\u001b[0m\u001b[0;34m'Kim'\u001b[0m\u001b[0;34m,\u001b[0m \u001b[0;34m'Wilke'\u001b[0m\u001b[0;34m)\u001b[0m\u001b[0;34m,\u001b[0m \u001b[0;36m1\u001b[0m\u001b[0;34m)\u001b[0m\u001b[0;34m\u001b[0m\u001b[0m\n\u001b[0m",
      "\u001b[0;32m<ipython-input-3-4e3c89b6308c>\u001b[0m in \u001b[0;36massign\u001b[0;34m(self, person, table)\u001b[0m\n\u001b[1;32m     36\u001b[0m                 \u001b[0mself\u001b[0m\u001b[0;34m.\u001b[0m\u001b[0mallguests\u001b[0m\u001b[0;34m.\u001b[0m\u001b[0mappend\u001b[0m\u001b[0;34m(\u001b[0m\u001b[0mentry\u001b[0m\u001b[0;34m)\u001b[0m    \u001b[0;31m#<-- add to guestlist\u001b[0m\u001b[0;34m\u001b[0m\u001b[0m\n\u001b[1;32m     37\u001b[0m             \u001b[0;32melse\u001b[0m\u001b[0;34m:\u001b[0m\u001b[0;34m\u001b[0m\u001b[0m\n\u001b[0;32m---> 38\u001b[0;31m                 \u001b[0;32mraise\u001b[0m \u001b[0mTableFull\u001b[0m               \u001b[0;31m#<-- otherwise, no room, throw exception\u001b[0m\u001b[0;34m\u001b[0m\u001b[0m\n\u001b[0m\u001b[1;32m     39\u001b[0m \u001b[0;34m\u001b[0m\u001b[0m\n\u001b[1;32m     40\u001b[0m         \u001b[0;31m## If the person DOES exist and they have None in the new table assignment\u001b[0m\u001b[0;34m\u001b[0m\u001b[0;34m\u001b[0m\u001b[0m\n",
      "\u001b[0;31mTableFull\u001b[0m: "
     ]
    }
   ],
   "source": [
    "# throw error...table full\n",
    "gl.assign(Person('Kim', 'Wilke'), 1)"
   ]
  }
 ],
 "metadata": {
  "kernelspec": {
   "display_name": "Python 3",
   "language": "python",
   "name": "python3"
  },
  "language_info": {
   "codemirror_mode": {
    "name": "ipython",
    "version": 3
   },
   "file_extension": ".py",
   "mimetype": "text/x-python",
   "name": "python",
   "nbconvert_exporter": "python",
   "pygments_lexer": "ipython3",
   "version": "3.6.5"
  }
 },
 "nbformat": 4,
 "nbformat_minor": 2
}
