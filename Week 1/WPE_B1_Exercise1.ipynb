{
 "cells": [
  {
   "cell_type": "markdown",
   "metadata": {},
   "source": [
    "This week, we'll explore the built-in data types, seeing how we can store information in them, and then extract information from them, without having to create a new class.\n",
    "\n",
    "I want you to create two different functions, collect_places and display_places.  Neither function takes an argument; instead, they will both work with a global variable, \"visits\".  (I'm purposely keeping quiet about my preferred type for \"visits\", so that you can think about it a bit.)\n",
    "\n",
    "The idea is that we want to organize a list of places to which someone has traveled. That is: We'll ask the user to enter, one at a time, a city and country to which they have traveled. The city and country should be separated by a comma. If there is no comma, then the user is given an error message, and given another chance. If the user enters a city-country combination, then this information is recorded, and then they're asked again.  Indeed, the user is asked again and again for a city-country combination, until they provide an empty response. When that happens, the questioning phase ends, and the reporting phase begins.\n",
    "\n",
    "In the report, we'll want to see a list of all of the places visited, organized by country. That is, we'll get a list of the visited countries, presented in alphabetical order, and for each country, we'll see a list of visited cities, also in alphabetical order.  If the city was visited more than once, then we'll see a number next to its name.\n",
    "\n",
    "For example, this is how the interaction could look:\n",
    "    Tell me where you went: New York, USA\n",
    "    Tell me where you went: London, England\n",
    "    Tell me where you went: Shanghai, China\n",
    "    Tell me where you went: Chicago, USA\n",
    "    Tell me where you went: Beijing, China\n",
    "    Tell me where you went: Chicago, USA\n",
    "    Tell me where you went: Beijing, China\n",
    "    Tell me where you went: lalala\n",
    "    That's not a legal city, country combination\n",
    "    Tell me where you went: Boston, USA\n",
    "    Tell me where you went: <user presses \"enter\" here>\n",
    "\n",
    "    You visited:\n",
    "    China\n",
    "        Beijing (2)\n",
    "        Shanghai\n",
    "    England\n",
    "        London\n",
    "    USA\n",
    "        Boston\n",
    "        Chicago (2)\n",
    "        New York"
   ]
  },
  {
   "cell_type": "code",
   "execution_count": null,
   "metadata": {},
   "outputs": [],
   "source": [
    "def collect_places():\n",
    "    while inputText != \"\":\n",
    "        "
   ]
  },
  {
   "cell_type": "code",
   "execution_count": null,
   "metadata": {},
   "outputs": [],
   "source": [
    "def display_place():"
   ]
  }
 ],
 "metadata": {
  "kernelspec": {
   "display_name": "Python 3",
   "language": "python",
   "name": "python3"
  },
  "language_info": {
   "codemirror_mode": {
    "name": "ipython",
    "version": 3
   },
   "file_extension": ".py",
   "mimetype": "text/x-python",
   "name": "python",
   "nbconvert_exporter": "python",
   "pygments_lexer": "ipython3",
   "version": "3.6.5"
  }
 },
 "nbformat": 4,
 "nbformat_minor": 2
}
